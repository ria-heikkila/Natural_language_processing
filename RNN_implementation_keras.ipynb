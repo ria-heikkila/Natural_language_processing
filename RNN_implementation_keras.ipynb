{
 "cells": [
  {
   "cell_type": "code",
   "execution_count": 1,
   "metadata": {},
   "outputs": [
    {
     "name": "stderr",
     "output_type": "stream",
     "text": [
      "Using TensorFlow backend.\n"
     ]
    },
    {
     "name": "stdout",
     "output_type": "stream",
     "text": [
      "25000 train sequences\n",
      "25000 test sequences\n",
      "input_train shape: (25000, 500)\n",
      "input_test shape: (25000, 500)\n"
     ]
    }
   ],
   "source": [
    "#preparing the IMDB data\n",
    "\n",
    "from keras.datasets import imdb\n",
    "from keras.preprocessing import sequence\n",
    "\n",
    "#numbers of words to consider as features\n",
    "max_features = 10000\n",
    "#cuts off texts after 500 words\n",
    "maxlen = 500\n",
    "batch_size = 32\n",
    "\n",
    "#loading data\n",
    "(input_train, y_train), (input_test, y_test) = imdb.load_data(num_words=max_features)\n",
    "print(len(input_train), 'train sequences')\n",
    "print(len(input_test), 'test sequences')\n",
    "\n",
    "#padding sequences\n",
    "input_train = sequence.pad_sequences(input_train, maxlen=maxlen)\n",
    "input_test = sequence.pad_sequences(input_test, maxlen=maxlen)\n",
    "print('input_train shape:', input_train.shape)\n",
    "print('input_test shape:', input_test.shape)"
   ]
  },
  {
   "cell_type": "code",
   "execution_count": 2,
   "metadata": {},
   "outputs": [
    {
     "name": "stderr",
     "output_type": "stream",
     "text": [
      "WARNING: Logging before flag parsing goes to stderr.\n",
      "W0408 18:49:49.485374 16920 deprecation_wrapper.py:119] From C:\\Users\\heikkila.SYSTEM-EXE\\anaconda3\\envs\\tensorflowcpu\\lib\\site-packages\\keras\\backend\\tensorflow_backend.py:74: The name tf.get_default_graph is deprecated. Please use tf.compat.v1.get_default_graph instead.\n",
      "\n",
      "W0408 18:49:49.521733 16920 deprecation_wrapper.py:119] From C:\\Users\\heikkila.SYSTEM-EXE\\anaconda3\\envs\\tensorflowcpu\\lib\\site-packages\\keras\\backend\\tensorflow_backend.py:517: The name tf.placeholder is deprecated. Please use tf.compat.v1.placeholder instead.\n",
      "\n",
      "W0408 18:49:49.524724 16920 deprecation_wrapper.py:119] From C:\\Users\\heikkila.SYSTEM-EXE\\anaconda3\\envs\\tensorflowcpu\\lib\\site-packages\\keras\\backend\\tensorflow_backend.py:4138: The name tf.random_uniform is deprecated. Please use tf.random.uniform instead.\n",
      "\n",
      "W0408 18:49:49.660129 16920 deprecation_wrapper.py:119] From C:\\Users\\heikkila.SYSTEM-EXE\\anaconda3\\envs\\tensorflowcpu\\lib\\site-packages\\keras\\optimizers.py:790: The name tf.train.Optimizer is deprecated. Please use tf.compat.v1.train.Optimizer instead.\n",
      "\n",
      "W0408 18:49:49.695537 16920 deprecation_wrapper.py:119] From C:\\Users\\heikkila.SYSTEM-EXE\\anaconda3\\envs\\tensorflowcpu\\lib\\site-packages\\keras\\backend\\tensorflow_backend.py:3376: The name tf.log is deprecated. Please use tf.math.log instead.\n",
      "\n",
      "W0408 18:49:49.705511 16920 deprecation.py:323] From C:\\Users\\heikkila.SYSTEM-EXE\\anaconda3\\envs\\tensorflowcpu\\lib\\site-packages\\tensorflow\\python\\ops\\nn_impl.py:180: add_dispatch_support.<locals>.wrapper (from tensorflow.python.ops.array_ops) is deprecated and will be removed in a future version.\n",
      "Instructions for updating:\n",
      "Use tf.where in 2.0, which has the same broadcast rule as np.where\n",
      "W0408 18:49:50.170624 16920 deprecation_wrapper.py:119] From C:\\Users\\heikkila.SYSTEM-EXE\\anaconda3\\envs\\tensorflowcpu\\lib\\site-packages\\keras\\backend\\tensorflow_backend.py:986: The name tf.assign_add is deprecated. Please use tf.compat.v1.assign_add instead.\n",
      "\n"
     ]
    },
    {
     "name": "stdout",
     "output_type": "stream",
     "text": [
      "Train on 20000 samples, validate on 5000 samples\n",
      "Epoch 1/10\n",
      "20000/20000 [==============================] - 19s 948us/step - loss: 0.6495 - acc: 0.6032 - val_loss: 0.5333 - val_acc: 0.7324\n",
      "Epoch 2/10\n",
      "20000/20000 [==============================] - 19s 965us/step - loss: 0.4196 - acc: 0.8170 - val_loss: 0.5935 - val_acc: 0.7176\n",
      "Epoch 3/10\n",
      "20000/20000 [==============================] - 20s 988us/step - loss: 0.3332 - acc: 0.8660 - val_loss: 0.3489 - val_acc: 0.8594\n",
      "Epoch 4/10\n",
      "20000/20000 [==============================] - 19s 939us/step - loss: 0.2281 - acc: 0.9112 - val_loss: 0.4611 - val_acc: 0.7916\n",
      "Epoch 5/10\n",
      "20000/20000 [==============================] - 21s 1ms/step - loss: 0.1640 - acc: 0.9397 - val_loss: 0.3753 - val_acc: 0.8654\n",
      "Epoch 6/10\n",
      "20000/20000 [==============================] - 21s 1ms/step - loss: 0.1060 - acc: 0.9641 - val_loss: 0.4010 - val_acc: 0.8610\n",
      "Epoch 7/10\n",
      "20000/20000 [==============================] - 20s 1ms/step - loss: 0.0666 - acc: 0.9791 - val_loss: 0.4621 - val_acc: 0.8464\n",
      "Epoch 8/10\n",
      "20000/20000 [==============================] - 19s 958us/step - loss: 0.0526 - acc: 0.9834 - val_loss: 0.6574 - val_acc: 0.7916\n",
      "Epoch 9/10\n",
      "20000/20000 [==============================] - 19s 949us/step - loss: 0.0260 - acc: 0.9931 - val_loss: 0.6192 - val_acc: 0.8110\n",
      "Epoch 10/10\n",
      "20000/20000 [==============================] - 20s 1ms/step - loss: 0.0169 - acc: 0.9950 - val_loss: 0.6361 - val_acc: 0.8258\n"
     ]
    }
   ],
   "source": [
    "#building a model\n",
    "\n",
    "from keras.models import Sequential\n",
    "from keras.layers import Embedding, SimpleRNN, Dense\n",
    "\n",
    "model = Sequential()\n",
    "model.add(Embedding(max_features, 32))\n",
    "model.add(SimpleRNN(32))\n",
    "model.add(Dense(1, activation='sigmoid'))\n",
    "\n",
    "model.compile(optimizer='rmsprop', loss='binary_crossentropy', metrics=['acc'])\n",
    "history = model.fit(input_train, y_train,\n",
    "                   epochs = 10,\n",
    "                   batch_size=128,\n",
    "                   validation_split=0.2)"
   ]
  },
  {
   "cell_type": "code",
   "execution_count": 4,
   "metadata": {},
   "outputs": [
    {
     "name": "stdout",
     "output_type": "stream",
     "text": [
      "25000/25000 [==============================] - 19s 763us/step\n"
     ]
    },
    {
     "data": {
      "text/plain": [
       "[0.6764732861661911, 0.82068]"
      ]
     },
     "execution_count": 4,
     "metadata": {},
     "output_type": "execute_result"
    }
   ],
   "source": [
    "model.evaluate(input_test, y_test)"
   ]
  },
  {
   "cell_type": "code",
   "execution_count": 5,
   "metadata": {},
   "outputs": [
    {
     "data": {
      "image/png": "[encoded data removed]",
      "text/plain": [
       "<Figure size 432x288 with 1 Axes>"
      ]
     },
     "metadata": {
      "needs_background": "light"
     },
     "output_type": "display_data"
    },
    {
     "data": {
      "image/png": "[encoded data removed]",
      "text/plain": [
       "<Figure size 432x288 with 1 Axes>"
      ]
     },
     "metadata": {
      "needs_background": "light"
     },
     "output_type": "display_data"
    }
   ],
   "source": [
    "import matplotlib.pyplot as plt\n",
    "%matplotlib inline\n",
    "\n",
    "acc = history.history['acc']\n",
    "val_acc = history.history['val_acc']\n",
    "loss = history.history['loss']\n",
    "val_loss = history.history['val_loss']\n",
    "\n",
    "epochs = range(1, len(acc) +1)\n",
    "\n",
    "plt.plot(epochs, acc, 'bo', label='Training acc')\n",
    "plt.plot(epochs, val_acc, 'b', label='Validation acc')\n",
    "plt.title('training and validation acc')\n",
    "plt.legend()\n",
    "\n",
    "plt.figure()\n",
    "\n",
    "plt.plot(epochs, loss, 'bo', label='Training loss')\n",
    "plt.plot(epochs, val_loss, 'b', label='Validation loss')\n",
    "plt.title('training and validation loss')\n",
    "plt.legend()\n",
    "\n",
    "plt.show()"
   ]
  },
  {
   "cell_type": "code",
   "execution_count": null,
   "metadata": {},
   "outputs": [],
   "source": []
  }
 ],
 "metadata": {
  "kernelspec": {
   "display_name": "Python 3",
   "language": "python",
   "name": "python3"
  },
  "language_info": {
   "codemirror_mode": {
    "name": "ipython",
    "version": 3
   },
   "file_extension": ".py",
   "mimetype": "text/x-python",
   "name": "python",
   "nbconvert_exporter": "python",
   "pygments_lexer": "ipython3",
   "version": "3.7.3"
  }
 },
 "nbformat": 4,
 "nbformat_minor": 2
}
